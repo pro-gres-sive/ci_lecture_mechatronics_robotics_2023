{
 "cells": [
  {
   "cell_type": "markdown",
   "id": "14a9a6cb-093b-420e-bedd-9adfe9f3d88f",
   "metadata": {},
   "source": [
    "# Sequential Learning with Perceptrons (Delta rule with sigmoid)\n",
    "Below, you'll find the code for the perpectron of our last lecture, which has one input and is trained by the Widrow-Hoff-Rule.\n",
    "\n",
    "Tasks:\n",
    "1. Load the .csv file \"and_gate.csv\" using pandas (https://pandas.pydata.org/docs/reference/api/pandas.read_csv.html)\n",
    "2. Adjust the perceptrons weights and net_process function for the new data\n",
    "3. Change the activation function to the logistical function (sigmoid)\n",
    "4. Adjust the fit function of the network to work with the new data and adjust the delta rule, respecting the new activation. (=> loop through epochs and training data samples)\n",
    "5. Display meaningful metrics as an print output in every epoch and use the fit function to train on the training data. Try different values for learning rate and the number of epochs\n",
    "6. Plot the metric you have chosen in 5 over the epochs (after training)"
   ]
  },
  {
   "cell_type": "code",
   "execution_count": null,
   "id": "c0f6c3bc-43ca-4e93-bc1f-6aaa00caf95e",
   "metadata": {},
   "outputs": [],
   "source": [
    "import matplotlib.pyplot as plt #library for visualizing data\n",
    "%matplotlib widget \n",
    "#setting for jupyter lab\n",
    "plt.rcParams['figure.figsize'] = [12, 6] #setting figure size (plots)\n",
    "\n",
    "import pandas as pd #(software library for data analysis and manipulation, https://pandas.pydata.org/docs/)\n",
    "import numpy as np #(software library for matrix calculations, https://numpy.org/doc/)\n",
    "import statistics as stats #(python module for statistic calculations, https://docs.python.org/3/library/statistics.html)"
   ]
  },
  {
   "cell_type": "code",
   "execution_count": null,
   "id": "c67c15cc-302b-4800-ae86-e24653548755",
   "metadata": {},
   "outputs": [],
   "source": [
    "def sigmoid(x):\n",
    "        return 1 / (1 + np.exp(-x))\n",
    "\n",
    "\n",
    "def sigmoid_deriv(x):\n",
    "    return sigmoid(x) * (1.0 - sigmoid(x))"
   ]
  },
  {
   "cell_type": "code",
   "execution_count": null,
   "id": "d55bc153-06cc-4db5-9ebb-0331e3e55546",
   "metadata": {},
   "outputs": [],
   "source": [
    "# possible solution\n",
    "class Perceptron_sequential():\n",
    "    \n",
    "    def __init__(self):\n",
    "        self.weights={}\n",
    "        self.weights['w1'] = np.random.randint(-99,99)*0.01\n",
    "        self.weights['w2'] = np.random.randint(-99,99)*0.01\n",
    "        self.weights['b'] = np.random.randint(-99,99)*0.01\n",
    "        \n",
    "    def activation(self, net):\n",
    "        act = sigmoid(net)\n",
    "        return act\n",
    "    \n",
    "    def activation_prime(self, net):\n",
    "        act = sigmoid_deriv(net)\n",
    "        return act\n",
    "    \n",
    "    def net_process(self, x):\n",
    "        net = self.weights['w1'] * x[0] + self.weights['w2'] * x[1] + self.weights['b']\n",
    "        return net\n",
    "    \n",
    "    def predict(self,x):\n",
    "        net = self.net_process(x)\n",
    "        pred = self.activation(net)\n",
    "        return pred\n",
    "        \n",
    "    \n",
    "    def fit(self, X, Y, epochs, l_rate):\n",
    "        last_mean_error = float('inf')\n",
    "        history = []\n",
    "        # print(self.weights)\n",
    "\n",
    "        for epoch in range(epochs):\n",
    "            \n",
    "            errors = []\n",
    "            for xi, target in zip(X,Y):\n",
    "                pred = self.predict(xi)\n",
    "                net = self.net_process(xi)\n",
    "                error = target - pred\n",
    "                \n",
    "\n",
    "                self.weights['w1'] = self.weights['w1'] + error * self.activation_prime(net) * xi[0] * l_rate\n",
    "                self.weights['w2'] = self.weights['w2'] + error * self.activation_prime(net) * xi[1] * l_rate\n",
    "                self.weights['b'] = self.weights['b'] + error * self.activation_prime(net) * l_rate\n",
    "                \n",
    "                errors.append(error)\n",
    "                \n",
    "            mse = np.mean(np.power(errors,2))\n",
    "            mae = np.mean(np.abs(errors))\n",
    "            sse = np.sum(np.power(errors,2))\n",
    "            history.append([epoch, mse, mae, sse])\n",
    "\n",
    "            print(f'''{epoch} Epoch: {round(mse,3)}''')\n",
    "                                \n",
    "                \n",
    "        return history\n",
    "                \n",
    "                \n",
    "            \n",
    "                \n",
    "                "
   ]
  },
  {
   "cell_type": "code",
   "execution_count": null,
   "id": "7c8f5a87-bfa3-4244-b377-5f10bed2cc5f",
   "metadata": {
    "tags": []
   },
   "outputs": [],
   "source": [
    "data = pd.read_csv('and_gate.csv')\n",
    "\n",
    "training_data = data\n",
    "\n",
    "X_train = training_data[['x1', 'x2']].values\n",
    "Y_train = training_data[['y']].values\n",
    "\n",
    "per = Perceptron_sequential()\n",
    "history = per.fit(X_train, Y_train, 40, 1.8)"
   ]
  },
  {
   "cell_type": "code",
   "execution_count": null,
   "id": "7488196b-3e5a-4241-bd68-3f0515f1481f",
   "metadata": {},
   "outputs": [],
   "source": [
    "history_df = pd.DataFrame(history, columns=['epoch', 'mse', 'mae', 'sse'])\n",
    "\n",
    "history_df.plot(x='epoch', y=['sse'])"
   ]
  },
  {
   "cell_type": "code",
   "execution_count": null,
   "id": "c01f3ce7-0e8b-4864-b5f9-fc073b5018b9",
   "metadata": {},
   "outputs": [],
   "source": []
  }
 ],
 "metadata": {
  "kernelspec": {
   "display_name": "Python 3 (ipykernel)",
   "language": "python",
   "name": "python3"
  },
  "language_info": {
   "codemirror_mode": {
    "name": "ipython",
    "version": 3
   },
   "file_extension": ".py",
   "mimetype": "text/x-python",
   "name": "python",
   "nbconvert_exporter": "python",
   "pygments_lexer": "ipython3",
   "version": "3.9.7"
  }
 },
 "nbformat": 4,
 "nbformat_minor": 5
}
