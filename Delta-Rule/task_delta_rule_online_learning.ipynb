{
 "cells": [
  {
   "cell_type": "markdown",
   "id": "4599420f-030b-417a-b334-9e655e53abe8",
   "metadata": {},
   "source": [
    "# Sequential Learning with Perceptrons (Delta rule with sigmoid)\n",
    "Below, you'll find the code for the perpectron of our last lecture, which has one input and is trained by the Widrow-Hoff-Rule.\n",
    "\n",
    "Tasks:\n",
    "1. Load the .csv file \"and_gate.csv\" using pandas (https://pandas.pydata.org/docs/reference/api/pandas.read_csv.html)\n",
    "2. Adjust the perceptrons weights and net_process function for the new data\n",
    "3. Change the activation function to the logistical function (sigmoid)\n",
    "4. Adjust the fit function of the network to work with the new data and adjust the delta rule, respecting the new activation. (=> loop through epochs and training data samples)\n",
    "5. Display meaningful metrics as an print output in every epoch and use the fit function to train on the training data. Try different values for learning rate and the number of epochs\n",
    "6. Plot the metric you have chosen in 5 over the epochs (after training)"
   ]
  },
  {
   "cell_type": "code",
   "execution_count": null,
   "id": "c0f6c3bc-43ca-4e93-bc1f-6aaa00caf95e",
   "metadata": {},
   "outputs": [],
   "source": [
    "import matplotlib.pyplot as plt #library for visualizing data\n",
    "%matplotlib widget \n",
    "#setting for jupyter lab\n",
    "plt.rcParams['figure.figsize'] = [12, 6] #setting figure size (plots)\n",
    "\n",
    "import pandas as pd #(software library for data analysis and manipulation, https://pandas.pydata.org/docs/)\n",
    "import numpy as np #(software library for matrix calculations, https://numpy.org/doc/)\n",
    "import statistics as stats #(python module for statistic calculations, https://docs.python.org/3/library/statistics.html)"
   ]
  },
  {
   "cell_type": "code",
   "execution_count": null,
   "id": "d55bc153-06cc-4db5-9ebb-0331e3e55546",
   "metadata": {},
   "outputs": [],
   "source": [
    "# possible solution\n",
    "class Perceptron_sequential():\n",
    "    \n",
    "    def __init__(self):\n",
    "        self.weights={}\n",
    "        self.weights['m'] = np.random.randint(-99,99)*0.01\n",
    "        self.weights['b'] = np.random.randint(-99,99)*0.01\n",
    "        \n",
    "    def activation(self, net):\n",
    "        act = net * 1\n",
    "        return act\n",
    "    \n",
    "    def net_process(self, x):\n",
    "        net = self.weights['m'] * x + self.weights['b']\n",
    "        return net\n",
    "    \n",
    "    def predict(self,x):\n",
    "        net = self.net_process(x)\n",
    "        pred = self.activation(net)\n",
    "        return pred\n",
    "        \n",
    "    \n",
    "    def fit(self, X, Y, epochs, l_rate):\n",
    "        last_mean_error = float('inf')\n",
    "        history = []\n",
    "\n",
    "        for epoch in range(epochs):\n",
    "            \n",
    "            errors = []\n",
    "            for xi, target in zip(X,Y):\n",
    "                pred = self.predict(xi)\n",
    "                error = target - pred\n",
    "                self.weights['m'] = self.weights['m'] + error * xi * l_rate\n",
    "                self.weights['b'] = self.weights['b'] + error * l_rate\n",
    "                errors.append(error)\n",
    "                                \n",
    "                    \n",
    "            history.append([self.weights['m'], self.weights['b'], error])\n",
    "\n",
    "                \n",
    "            mean_error = round(pd.Series(errors).abs().mean(), 3)\n",
    "            rel_error_change = np.abs(last_mean_error-mean_error) / mean_error\n",
    "            last_mean_error = mean_error\n",
    "            \n",
    "            print(f'Epoch {epoch} finished. Error: {mean_error}')\n",
    "            \n",
    "            \n",
    "            if mean_error == 0:\n",
    "                print(f'Relative error change below threshold: {rel_error_change}')\n",
    "                break\n",
    "                \n",
    "        return history\n",
    "                \n",
    "                \n",
    "            \n",
    "                \n",
    "                "
   ]
  },
  {
   "cell_type": "code",
   "execution_count": null,
   "id": "6ab543cb-eca0-4f8a-8ad6-787de5294ff3",
   "metadata": {},
   "outputs": [],
   "source": [
    "data = pd.read_csv('regession_data.csv')\n",
    "\n",
    "\n",
    "ax = data.plot(kind='scatter', x='x', y='y', title='Data Pairs', xlim=0, ylim=0)\n",
    "\n",
    "training_data = data.sample(frac=0.8)\n",
    "validation_data = data.drop(training_data.index)\n",
    "\n",
    "X_train, Y_train = training_data['x'].to_numpy(), training_data['y'].to_numpy()"
   ]
  },
  {
   "cell_type": "code",
   "execution_count": null,
   "id": "79442248-a9be-4f20-8d91-894097acef75",
   "metadata": {},
   "outputs": [],
   "source": [
    "per = Perceptron_sequential()\n",
    "history = per.fit(X_train, Y_train, 25, 0.05)"
   ]
  },
  {
   "cell_type": "code",
   "execution_count": null,
   "id": "112bb67a-0ab3-4da3-8f44-a20884162ea1",
   "metadata": {},
   "outputs": [],
   "source": [
    "# test predictions:\n",
    "x_test = np.array([0,data['x'].max()])\n",
    "y_pred = per.predict(x_test)\n",
    "#y_pred = np.array([0.09076697263296785 * x_test[0] + 0.27998578969246035, 0.09076697263296785 * x_test[1] + 0.27998578969246035])\n",
    "\n",
    "plt.close('all')\n",
    "plt.plot(x_test, y_pred)\n",
    "plt.scatter(data['x'], data['y'], color = 'orange', label = 'x')\n",
    "\n",
    "plt.title('Visualization Prediction')\n",
    "plt.legend(['Predictions', 'Training Data'])\n",
    "plt.xlim([0,data['x'].max()])\n",
    "plt.ylim([0,data['y'].max()])\n",
    "plt.show()"
   ]
  }
 ],
 "metadata": {
  "kernelspec": {
   "display_name": "Python 3 (ipykernel)",
   "language": "python",
   "name": "python3"
  },
  "language_info": {
   "codemirror_mode": {
    "name": "ipython",
    "version": 3
   },
   "file_extension": ".py",
   "mimetype": "text/x-python",
   "name": "python",
   "nbconvert_exporter": "python",
   "pygments_lexer": "ipython3",
   "version": "3.9.7"
  }
 },
 "nbformat": 4,
 "nbformat_minor": 5
}
