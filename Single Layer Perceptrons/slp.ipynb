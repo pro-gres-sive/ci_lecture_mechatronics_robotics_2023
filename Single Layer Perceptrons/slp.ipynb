{
 "cells": [
  {
   "cell_type": "code",
   "execution_count": null,
   "id": "93795aa9-fb4f-4126-b660-a5a95d3bdaaa",
   "metadata": {},
   "outputs": [],
   "source": [
    "import pandas as pd #module for data science calculations and visualizations\n",
    "import numpy as np #module for matrix calculations"
   ]
  },
  {
   "cell_type": "code",
   "execution_count": null,
   "id": "e5f8fe6e-8813-4e3d-96a9-521ac3e65a5d",
   "metadata": {},
   "outputs": [],
   "source": [
    "def step(x):\n",
    "    \n",
    "    output = 0\n",
    "    if x > 0:\n",
    "        output = 1\n",
    "    \n",
    "    return output\n"
   ]
  },
  {
   "cell_type": "code",
   "execution_count": null,
   "id": "95829903-a6a4-47ad-a59e-41964cf1154b",
   "metadata": {},
   "outputs": [],
   "source": [
    "def perceptron(inputs, weights, bias):\n",
    "    \n",
    "    intermediate_result = np.matmul(inputs.to_numpy(), weights.to_numpy()) + bias\n",
    "    return_value = step(intermediate_result)\n",
    "    \n",
    "    return return_value"
   ]
  },
  {
   "cell_type": "code",
   "execution_count": null,
   "id": "b38a310b-5da8-44f4-a886-efc0a202ad02",
   "metadata": {},
   "outputs": [],
   "source": [
    "#weight and bias definition\n",
    "inputs = pd.Series([0,1], index = ['x1', 'x2'])\n",
    "weights_for_and_gate = pd.Series([0.5, 0.5], index = ['w1', 'w2'])\n",
    "bias_for_and_gate = 0"
   ]
  },
  {
   "cell_type": "code",
   "execution_count": null,
   "id": "a5451b61-9d6b-4d16-b9ff-a4abfcc12ce6",
   "metadata": {},
   "outputs": [],
   "source": [
    "output = perceptron(inputs, weights_for_and_gate, bias_for_and_gate)\n",
    "\n",
    "print(f'''Result: {output}''')"
   ]
  }
 ],
 "metadata": {
  "kernelspec": {
   "display_name": "Python 3 (ipykernel)",
   "language": "python",
   "name": "python3"
  },
  "language_info": {
   "codemirror_mode": {
    "name": "ipython",
    "version": 3
   },
   "file_extension": ".py",
   "mimetype": "text/x-python",
   "name": "python",
   "nbconvert_exporter": "python",
   "pygments_lexer": "ipython3",
   "version": "3.9.7"
  }
 },
 "nbformat": 4,
 "nbformat_minor": 5
}
