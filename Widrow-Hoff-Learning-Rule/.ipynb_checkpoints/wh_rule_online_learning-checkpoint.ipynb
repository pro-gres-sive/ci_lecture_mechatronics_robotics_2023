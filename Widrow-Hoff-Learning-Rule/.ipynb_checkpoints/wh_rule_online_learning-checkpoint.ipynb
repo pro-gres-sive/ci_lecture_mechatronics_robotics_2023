{
 "cells": [
  {
   "cell_type": "markdown",
   "id": "eb5888bd-0897-4d46-8097-0e04dca439c0",
   "metadata": {},
   "source": [
    "# Sequential Learning with Perceptrons\n",
    "Below, you'll find the barebone code for a perpectron, which is implemented making use of Python classes\n",
    "Documentation: https://docs.python.org/3/tutorial/classes.html\n",
    "\n",
    "Tasks:\n",
    "1. Load the .csv file \"regression_data\" using pandas (https://pandas.pydata.org/docs/reference/api/pandas.read_csv.html)\n",
    "2. Visualize the data using pandas.plot() (https://pandas.pydata.org/docs/reference/api/pandas.DataFrame.plot.html) or plt.plot() (https://matplotlib.org/stable/api/_as_gen/matplotlib.pyplot.plot.html)\n",
    "3. Initialize the weights of the percepton randomly in a range between -1 and 1\n",
    "4. Implement the net_process function, calculating the weighted input + bias. Use the predict function to examine the output of the untrained network. \n",
    "5. Implement the fit function of the network by making use of the delta rule in it's sequential form (online training). (=> loop through epochs and training data samples)\n",
    "6. Display meaningful metrics as an print output in every epoch and use the fit function to train on the training data. Try different values for learning rate and the number of epochs\n",
    "7. Collect the chosen metric data while training and return it as an output of the fit function. Visualize those metrics.\n",
    "8. You might notice, that the networks metrics won't improve after several epochs. Why is that? Implement an \"abort mechanism\", which terminates training in that case.\n",
    "9. Plot the networks solution over the training data"
   ]
  },
  {
   "cell_type": "code",
   "execution_count": 83,
   "id": "e301c278-2d78-4c77-9631-5a932183d2a1",
   "metadata": {},
   "outputs": [],
   "source": [
    "import matplotlib.pyplot as plt #library for visualizing data\n",
    "%matplotlib widget \n",
    "#setting for jupyter lab\n",
    "plt.rcParams['figure.figsize'] = [12, 6] #setting figure size (plots)\n",
    "\n",
    "import pandas as pd #(software library for data analysis and manipulation, https://pandas.pydata.org/docs/)\n",
    "import numpy as np #(software library for matrix multiplications, https://numpy.org/doc/)\n",
    "import statistics as stats #(python module for statistic calculations, https://docs.python.org/3/library/statistics.html)"
   ]
  },
  {
   "cell_type": "code",
   "execution_count": 2,
   "id": "89c0b86e-7083-444a-9e76-d4c87ae934f5",
   "metadata": {},
   "outputs": [],
   "source": [
    "# possible solution\n",
    "class Perceptron_online():\n",
    "    \n",
    "    def __init__(self):\n",
    "        self.weights={}\n",
    "        #self.weights['m'] = ...\n",
    "        #self.weights['b'] = ...\n",
    "        \n",
    "    def activation(self, net):\n",
    "        act = net * 1\n",
    "        return act\n",
    "    \n",
    "    def net_process(self, x):\n",
    "        # net = ...\n",
    "        return net\n",
    "    \n",
    "    def predict(self,x):\n",
    "        net = self.net_process(x)\n",
    "        pred = self.activation(net)\n",
    "        return pred\n",
    "        \n",
    "    \n",
    "    def fit(self, X, Y, epochs, l_rate):\n",
    "\n",
    "        \n",
    "        \n",
    "        for epoch in range(epochs):\n",
    "            #...\n",
    "            print(f'Epoch: {epoch}')\n",
    "                \n",
    "        return history\n",
    "                \n",
    "                \n",
    "            \n",
    "                \n",
    "                "
   ]
  },
  {
   "cell_type": "code",
   "execution_count": null,
   "id": "06111835-435c-49c9-873e-b6ebf665671f",
   "metadata": {},
   "outputs": [],
   "source": [
    "#data = ..."
   ]
  },
  {
   "cell_type": "code",
   "execution_count": null,
   "id": "9c1f92e5-1843-4b5f-9d84-51c6e8fa2e92",
   "metadata": {},
   "outputs": [],
   "source": [
    "per = Perceptron_sequential()\n",
    "#history = per.fit( ..."
   ]
  }
 ],
 "metadata": {
  "kernelspec": {
   "display_name": "Python 3 (ipykernel)",
   "language": "python",
   "name": "python3"
  },
  "language_info": {
   "codemirror_mode": {
    "name": "ipython",
    "version": 3
   },
   "file_extension": ".py",
   "mimetype": "text/x-python",
   "name": "python",
   "nbconvert_exporter": "python",
   "pygments_lexer": "ipython3",
   "version": "3.9.7"
  }
 },
 "nbformat": 4,
 "nbformat_minor": 5
}
