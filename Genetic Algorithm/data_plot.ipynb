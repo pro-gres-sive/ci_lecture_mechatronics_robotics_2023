{
 "cells": [
  {
   "cell_type": "code",
   "execution_count": null,
   "id": "e608f764-4266-4e89-a0da-cb571dc55bc5",
   "metadata": {},
   "outputs": [],
   "source": [
    "import matplotlib.pyplot as plt #library for visualizing data\n",
    "%matplotlib widget \n",
    "#setting for jupyter lab\n",
    "plt.rcParams['figure.figsize'] = [10, 5] #setting figure size (plots)\n",
    "from matplotlib import cm #colormap for plots\n",
    "\n",
    "\n",
    "import pandas as pd  # (software library for data analysis and manipulation, https://pandas.pydata.org/docs/)\n",
    "import numpy as np  # (software library for matrix multiplications, https://numpy.org/doc/)\n",
    "\n",
    "import statistics as stats  # (python module for statistic calculations, https://docs.python.org/3/library/statistics.html)\n",
    "import time #python time module\n",
    "import math #python module for mathematical operations"
   ]
  },
  {
   "cell_type": "code",
   "execution_count": null,
   "id": "4c534edd-999e-43a7-a9e2-3324905e598a",
   "metadata": {},
   "outputs": [],
   "source": [
    "X = np.arange(-2.5, 2.5, 0.05)\n",
    "Y = np.arange(-2.5, 2.5, 0.05)\n",
    "X, Y = np.meshgrid(X, Y)\n",
    "Z = (1 - X/2 + X**6 + Y**3) * -np.exp(-X**2 - Y**2) + 1.7"
   ]
  },
  {
   "cell_type": "code",
   "execution_count": null,
   "id": "2102de1d-1d68-4513-87d6-047d0e04be84",
   "metadata": {},
   "outputs": [],
   "source": [
    "plt.close()\n",
    "fig, ax = plt.subplots(subplot_kw={\"projection\": \"3d\"})\n",
    "surf = ax.plot_surface(X, Y, Z, cmap=cm.coolwarm,\n",
    "                       linewidth=0, antialiased=True)\n",
    "plt.xlabel('X1')\n",
    "plt.ylabel('X2')\n",
    "plt.show()"
   ]
  }
 ],
 "metadata": {
  "kernelspec": {
   "display_name": "Python 3 (ipykernel)",
   "language": "python",
   "name": "python3"
  },
  "language_info": {
   "codemirror_mode": {
    "name": "ipython",
    "version": 3
   },
   "file_extension": ".py",
   "mimetype": "text/x-python",
   "name": "python",
   "nbconvert_exporter": "python",
   "pygments_lexer": "ipython3",
   "version": "3.10.8"
  }
 },
 "nbformat": 4,
 "nbformat_minor": 5
}
