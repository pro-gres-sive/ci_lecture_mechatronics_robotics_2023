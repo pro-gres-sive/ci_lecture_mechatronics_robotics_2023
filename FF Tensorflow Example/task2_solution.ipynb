{
 "cells": [
  {
   "cell_type": "markdown",
   "id": "4b38cfe6-687b-4cda-8913-32a8675addd3",
   "metadata": {},
   "source": [
    "TASK 2 - Solution"
   ]
  },
  {
   "cell_type": "code",
   "execution_count": null,
   "id": "c3146a45-6417-45bf-9898-c90fb05ee581",
   "metadata": {},
   "outputs": [],
   "source": [
    "#imports\n",
    "#%matplotlib widget\n",
    "import matplotlib.pyplot as plt\n",
    "plt.rcParams['figure.figsize'] = [8, 6]\n",
    "\n",
    "import numpy as np\n",
    "import pandas as pd\n",
    "import tensorflow as tf"
   ]
  },
  {
   "cell_type": "code",
   "execution_count": null,
   "id": "f96c8078-32bf-4cb1-acfe-6a749a3dfac4",
   "metadata": {},
   "outputs": [],
   "source": [
    "# just to make sure everyone get's the same results\n",
    "random_state = 44\n",
    "np.random.seed(random_state)\n",
    "tf.random.set_seed(random_state)"
   ]
  },
  {
   "cell_type": "code",
   "execution_count": null,
   "id": "35b0662a-f3b1-406f-8583-c51af1665158",
   "metadata": {},
   "outputs": [],
   "source": [
    "data = pd.DataFrame([[0,0,0],\n",
    "                    [1,0,1],\n",
    "                    [0,1,1],\n",
    "                    [1,1,0]], columns = ['input1', 'input2', 'output'])"
   ]
  },
  {
   "cell_type": "code",
   "execution_count": null,
   "id": "6cf7691d-d663-4358-95bb-14cee5bbd0ea",
   "metadata": {},
   "outputs": [],
   "source": [
    "init = tf.keras.initializers.he_uniform(4) #uniform variance scaling initializer with a seed of 4"
   ]
  },
  {
   "cell_type": "code",
   "execution_count": null,
   "id": "c43f222d-3118-4567-8645-389f063b9012",
   "metadata": {},
   "outputs": [],
   "source": [
    "# define model topology\n",
    "inputs = tf.keras.layers.Input(shape=(2,))\n",
    "x = tf.keras.layers.Dense(2, name='HiddenLayer', activation=tf.keras.activations.relu, kernel_initializer=init)(inputs)\n",
    "output = tf.keras.layers.Dense(1, name='OutputLayer', activation = tf.keras.activations.sigmoid, kernel_initializer=init)(x)"
   ]
  },
  {
   "cell_type": "code",
   "execution_count": null,
   "id": "09df6bd2-0a6c-419a-9194-108f545e8095",
   "metadata": {},
   "outputs": [],
   "source": [
    "# create model\n",
    "model = tf.keras.Model(inputs = inputs, outputs = output, name='TF_Example')\n",
    "\n",
    "# inspect model\n",
    "model.summary()\n",
    "tf.keras.utils.plot_model(model, show_shapes=True)\n",
    "\n",
    "learning_rate = 0.2\n",
    "\n",
    "model.compile(loss = tf.keras.losses.MeanSquaredError(),\n",
    "             optimizer = tf.keras.optimizers.Adam(learning_rate),\n",
    "             metrics = [tf.keras.metrics.RootMeanSquaredError()])"
   ]
  },
  {
   "cell_type": "code",
   "execution_count": null,
   "id": "477b6377-b254-4854-9bbb-ede1713aae08",
   "metadata": {
    "tags": []
   },
   "outputs": [],
   "source": [
    "history = model.fit(data[['input1', 'input2']].to_numpy(), data['output'].to_numpy(), batch_size=1, epochs=120)"
   ]
  },
  {
   "cell_type": "code",
   "execution_count": null,
   "id": "17899d49-e571-4566-8cb4-3dd1041ef0cc",
   "metadata": {},
   "outputs": [],
   "source": [
    "pd.DataFrame(history.history).plot()"
   ]
  },
  {
   "cell_type": "code",
   "execution_count": null,
   "id": "3a0cc948-18b9-40d5-a68c-def6ceef9aaf",
   "metadata": {},
   "outputs": [],
   "source": [
    "test_data = data[['input1', 'input2']]"
   ]
  },
  {
   "cell_type": "code",
   "execution_count": null,
   "id": "767000a9-59cd-4034-8e0f-837b05a361c6",
   "metadata": {},
   "outputs": [],
   "source": [
    "test_data['pred'] = model.predict(test_data)"
   ]
  },
  {
   "cell_type": "code",
   "execution_count": null,
   "id": "1bd2cfda-8b85-40f9-9f83-c8866ad5e403",
   "metadata": {},
   "outputs": [],
   "source": [
    "display(test_data)"
   ]
  },
  {
   "cell_type": "code",
   "execution_count": null,
   "id": "952afb31-a972-420d-8045-953500a92cb6",
   "metadata": {},
   "outputs": [],
   "source": []
  }
 ],
 "metadata": {
  "kernelspec": {
   "display_name": "Python 3 (ipykernel)",
   "language": "python",
   "name": "python3"
  },
  "language_info": {
   "codemirror_mode": {
    "name": "ipython",
    "version": 3
   },
   "file_extension": ".py",
   "mimetype": "text/x-python",
   "name": "python",
   "nbconvert_exporter": "python",
   "pygments_lexer": "ipython3",
   "version": "3.9.15"
  }
 },
 "nbformat": 4,
 "nbformat_minor": 5
}
