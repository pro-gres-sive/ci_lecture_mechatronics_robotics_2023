{
 "cells": [
  {
   "cell_type": "markdown",
   "id": "4b38cfe6-687b-4cda-8913-32a8675addd3",
   "metadata": {},
   "source": [
    "TASK 2 - Solution"
   ]
  },
  {
   "cell_type": "code",
   "execution_count": 2,
   "id": "c3146a45-6417-45bf-9898-c90fb05ee581",
   "metadata": {},
   "outputs": [
    {
     "name": "stderr",
     "output_type": "stream",
     "text": [
      "2022-12-22 11:12:37.238375: I tensorflow/core/platform/cpu_feature_guard.cc:193] This TensorFlow binary is optimized with oneAPI Deep Neural Network Library (oneDNN) to use the following CPU instructions in performance-critical operations:  SSE4.1 SSE4.2 AVX AVX2 FMA\n",
      "To enable them in other operations, rebuild TensorFlow with the appropriate compiler flags.\n"
     ]
    }
   ],
   "source": [
    "#imports\n",
    "#%matplotlib widget\n",
    "import matplotlib.pyplot as plt\n",
    "plt.rcParams['figure.figsize'] = [8, 6]\n",
    "\n",
    "import numpy as np\n",
    "import pandas as pd\n",
    "import tensorflow as tf"
   ]
  },
  {
   "cell_type": "code",
   "execution_count": 3,
   "id": "f96c8078-32bf-4cb1-acfe-6a749a3dfac4",
   "metadata": {},
   "outputs": [],
   "source": [
    "# just to make sure everyone get's the same results\n",
    "random_state = 44\n",
    "np.random.seed(random_state)\n",
    "tf.random.set_seed(random_state)"
   ]
  },
  {
   "cell_type": "code",
   "execution_count": 4,
   "id": "35b0662a-f3b1-406f-8583-c51af1665158",
   "metadata": {},
   "outputs": [],
   "source": [
    "data = pd.DataFrame([[0,0,0],\n",
    "                    [1,0,1],\n",
    "                    [0,1,1],\n",
    "                    [1,1,0]], columns = ['input1', 'input2', 'output'])"
   ]
  },
  {
   "cell_type": "code",
   "execution_count": 5,
   "id": "6cf7691d-d663-4358-95bb-14cee5bbd0ea",
   "metadata": {},
   "outputs": [],
   "source": [
    "init = tf.keras.initializers.he_uniform(4) #uniform variance scaling initializer with a seed of 4"
   ]
  },
  {
   "cell_type": "code",
   "execution_count": 23,
   "id": "c43f222d-3118-4567-8645-389f063b9012",
   "metadata": {},
   "outputs": [],
   "source": [
    "# define model topology\n",
    "inputs = tf.keras.layers.Input(shape=(2,))\n",
    "x = tf.keras.layers.Dense(2, name='HiddenLayer', activation=tf.keras.activations.relu, kernel_initializer=init)(inputs)\n",
    "output = tf.keras.layers.Dense(1, name='OutputLayer', activation = tf.keras.activations.sigmoid, kernel_initializer=init)(x)"
   ]
  },
  {
   "cell_type": "code",
   "execution_count": 24,
   "id": "09df6bd2-0a6c-419a-9194-108f545e8095",
   "metadata": {},
   "outputs": [
    {
     "name": "stdout",
     "output_type": "stream",
     "text": [
      "Model: \"TF_Example\"\n",
      "_________________________________________________________________\n",
      " Layer (type)                Output Shape              Param #   \n",
      "=================================================================\n",
      " input_6 (InputLayer)        [(None, 2)]               0         \n",
      "                                                                 \n",
      " HiddenLayer (Dense)         (None, 2)                 6         \n",
      "                                                                 \n",
      " OutputLayer (Dense)         (None, 1)                 3         \n",
      "                                                                 \n",
      "=================================================================\n",
      "Total params: 9\n",
      "Trainable params: 9\n",
      "Non-trainable params: 0\n",
      "_________________________________________________________________\n"
     ]
    }
   ],
   "source": [
    "# create model\n",
    "model = tf.keras.Model(inputs = inputs, outputs = output, name='TF_Example')\n",
    "\n",
    "# inspect model\n",
    "model.summary()\n",
    "tf.keras.utils.plot_model(model, show_shapes=True)\n",
    "\n",
    "learning_rate = 0.2\n",
    "\n",
    "model.compile(loss = tf.keras.losses.MeanSquaredError(),\n",
    "             optimizer = tf.keras.optimizers.Adam(learning_rate),\n",
    "             metrics = [tf.keras.metrics.RootMeanSquaredError()])"
   ]
  },
  {
   "cell_type": "code",
   "execution_count": 25,
   "id": "477b6377-b254-4854-9bbb-ede1713aae08",
   "metadata": {
    "tags": []
   },
   "outputs": [
    {
     "name": "stdout",
     "output_type": "stream",
     "text": [
      "Epoch 1/120\n",
      "1/1 [==============================] - 0s 223ms/step - loss: 0.3093 - root_mean_squared_error: 0.5562\n",
      "Epoch 2/120\n",
      "1/1 [==============================] - 0s 11ms/step - loss: 0.3095 - root_mean_squared_error: 0.5564\n",
      "Epoch 3/120\n",
      "1/1 [==============================] - 0s 7ms/step - loss: 0.2717 - root_mean_squared_error: 0.5212\n",
      "Epoch 4/120\n",
      "1/1 [==============================] - 0s 15ms/step - loss: 0.2479 - root_mean_squared_error: 0.4979\n",
      "Epoch 5/120\n",
      "1/1 [==============================] - 0s 23ms/step - loss: 0.2467 - root_mean_squared_error: 0.4967\n",
      "Epoch 6/120\n",
      "1/1 [==============================] - 0s 14ms/step - loss: 0.2423 - root_mean_squared_error: 0.4922\n",
      "Epoch 7/120\n",
      "1/1 [==============================] - 0s 10ms/step - loss: 0.2236 - root_mean_squared_error: 0.4729\n",
      "Epoch 8/120\n",
      "1/1 [==============================] - 0s 8ms/step - loss: 0.2035 - root_mean_squared_error: 0.4511\n",
      "Epoch 9/120\n",
      "1/1 [==============================] - 0s 6ms/step - loss: 0.1961 - root_mean_squared_error: 0.4428\n",
      "Epoch 10/120\n",
      "1/1 [==============================] - 0s 6ms/step - loss: 0.1861 - root_mean_squared_error: 0.4314\n",
      "Epoch 11/120\n",
      "1/1 [==============================] - 0s 12ms/step - loss: 0.1705 - root_mean_squared_error: 0.4130\n",
      "Epoch 12/120\n",
      "1/1 [==============================] - 0s 8ms/step - loss: 0.1689 - root_mean_squared_error: 0.4110\n",
      "Epoch 13/120\n",
      "1/1 [==============================] - 0s 6ms/step - loss: 0.1672 - root_mean_squared_error: 0.4090\n",
      "Epoch 14/120\n",
      "1/1 [==============================] - 0s 9ms/step - loss: 0.1652 - root_mean_squared_error: 0.4065\n",
      "Epoch 15/120\n",
      "1/1 [==============================] - 0s 9ms/step - loss: 0.1625 - root_mean_squared_error: 0.4031\n",
      "Epoch 16/120\n",
      "1/1 [==============================] - 0s 6ms/step - loss: 0.1585 - root_mean_squared_error: 0.3981\n",
      "Epoch 17/120\n",
      "1/1 [==============================] - 0s 4ms/step - loss: 0.1527 - root_mean_squared_error: 0.3908\n",
      "Epoch 18/120\n",
      "1/1 [==============================] - 0s 4ms/step - loss: 0.1443 - root_mean_squared_error: 0.3799\n",
      "Epoch 19/120\n",
      "1/1 [==============================] - 0s 5ms/step - loss: 0.1325 - root_mean_squared_error: 0.3640\n",
      "Epoch 20/120\n",
      "1/1 [==============================] - 0s 10ms/step - loss: 0.1168 - root_mean_squared_error: 0.3417\n",
      "Epoch 21/120\n",
      "1/1 [==============================] - 0s 6ms/step - loss: 0.0975 - root_mean_squared_error: 0.3123\n",
      "Epoch 22/120\n",
      "1/1 [==============================] - 0s 4ms/step - loss: 0.0765 - root_mean_squared_error: 0.2765\n",
      "Epoch 23/120\n",
      "1/1 [==============================] - 0s 4ms/step - loss: 0.0587 - root_mean_squared_error: 0.2423\n",
      "Epoch 24/120\n",
      "1/1 [==============================] - 0s 8ms/step - loss: 0.0457 - root_mean_squared_error: 0.2138\n",
      "Epoch 25/120\n",
      "1/1 [==============================] - 0s 4ms/step - loss: 0.0332 - root_mean_squared_error: 0.1823\n",
      "Epoch 26/120\n",
      "1/1 [==============================] - 0s 6ms/step - loss: 0.0237 - root_mean_squared_error: 0.1540\n",
      "Epoch 27/120\n",
      "1/1 [==============================] - 0s 4ms/step - loss: 0.0176 - root_mean_squared_error: 0.1327\n",
      "Epoch 28/120\n",
      "1/1 [==============================] - 0s 9ms/step - loss: 0.0137 - root_mean_squared_error: 0.1171\n",
      "Epoch 29/120\n",
      "1/1 [==============================] - 0s 4ms/step - loss: 0.0110 - root_mean_squared_error: 0.1048\n",
      "Epoch 30/120\n",
      "1/1 [==============================] - 0s 4ms/step - loss: 0.0089 - root_mean_squared_error: 0.0944\n",
      "Epoch 31/120\n",
      "1/1 [==============================] - 0s 4ms/step - loss: 0.0073 - root_mean_squared_error: 0.0852\n",
      "Epoch 32/120\n",
      "1/1 [==============================] - 0s 4ms/step - loss: 0.0059 - root_mean_squared_error: 0.0771\n",
      "Epoch 33/120\n",
      "1/1 [==============================] - 0s 7ms/step - loss: 0.0051 - root_mean_squared_error: 0.0712\n",
      "Epoch 34/120\n",
      "1/1 [==============================] - 0s 18ms/step - loss: 0.0041 - root_mean_squared_error: 0.0637\n",
      "Epoch 35/120\n",
      "1/1 [==============================] - 0s 6ms/step - loss: 0.0034 - root_mean_squared_error: 0.0583\n",
      "Epoch 36/120\n",
      "1/1 [==============================] - 0s 11ms/step - loss: 0.0029 - root_mean_squared_error: 0.0535\n",
      "Epoch 37/120\n",
      "1/1 [==============================] - 0s 12ms/step - loss: 0.0024 - root_mean_squared_error: 0.0493\n",
      "Epoch 38/120\n",
      "1/1 [==============================] - 0s 9ms/step - loss: 0.0021 - root_mean_squared_error: 0.0457\n",
      "Epoch 39/120\n",
      "1/1 [==============================] - 0s 9ms/step - loss: 0.0018 - root_mean_squared_error: 0.0426\n",
      "Epoch 40/120\n",
      "1/1 [==============================] - 0s 10ms/step - loss: 0.0016 - root_mean_squared_error: 0.0398\n",
      "Epoch 41/120\n",
      "1/1 [==============================] - 0s 11ms/step - loss: 0.0014 - root_mean_squared_error: 0.0374\n",
      "Epoch 42/120\n",
      "1/1 [==============================] - 0s 7ms/step - loss: 0.0012 - root_mean_squared_error: 0.0352\n",
      "Epoch 43/120\n",
      "1/1 [==============================] - 0s 8ms/step - loss: 0.0011 - root_mean_squared_error: 0.0333\n",
      "Epoch 44/120\n",
      "1/1 [==============================] - 0s 7ms/step - loss: 0.0010 - root_mean_squared_error: 0.0317\n",
      "Epoch 45/120\n",
      "1/1 [==============================] - 0s 7ms/step - loss: 9.0961e-04 - root_mean_squared_error: 0.0302\n",
      "Epoch 46/120\n",
      "1/1 [==============================] - 0s 7ms/step - loss: 8.3080e-04 - root_mean_squared_error: 0.0288\n",
      "Epoch 47/120\n",
      "1/1 [==============================] - 0s 12ms/step - loss: 7.6319e-04 - root_mean_squared_error: 0.0276\n",
      "Epoch 48/120\n",
      "1/1 [==============================] - 0s 7ms/step - loss: 7.0487e-04 - root_mean_squared_error: 0.0265\n",
      "Epoch 49/120\n",
      "1/1 [==============================] - 0s 10ms/step - loss: 6.5427e-04 - root_mean_squared_error: 0.0256\n",
      "Epoch 50/120\n",
      "1/1 [==============================] - 0s 4ms/step - loss: 6.1017e-04 - root_mean_squared_error: 0.0247\n",
      "Epoch 51/120\n",
      "1/1 [==============================] - 0s 4ms/step - loss: 5.7154e-04 - root_mean_squared_error: 0.0239\n",
      "Epoch 52/120\n",
      "1/1 [==============================] - 0s 3ms/step - loss: 5.3756e-04 - root_mean_squared_error: 0.0232\n",
      "Epoch 53/120\n",
      "1/1 [==============================] - 0s 26ms/step - loss: 5.0754e-04 - root_mean_squared_error: 0.0225\n",
      "Epoch 54/120\n",
      "1/1 [==============================] - 0s 12ms/step - loss: 4.8093e-04 - root_mean_squared_error: 0.0219\n",
      "Epoch 55/120\n",
      "1/1 [==============================] - 0s 4ms/step - loss: 4.5724e-04 - root_mean_squared_error: 0.0214\n",
      "Epoch 56/120\n",
      "1/1 [==============================] - 0s 5ms/step - loss: 4.3609e-04 - root_mean_squared_error: 0.0209\n",
      "Epoch 57/120\n",
      "1/1 [==============================] - 0s 8ms/step - loss: 4.1714e-04 - root_mean_squared_error: 0.0204\n",
      "Epoch 58/120\n",
      "1/1 [==============================] - 0s 10ms/step - loss: 4.0010e-04 - root_mean_squared_error: 0.0200\n",
      "Epoch 59/120\n",
      "1/1 [==============================] - 0s 6ms/step - loss: 3.8474e-04 - root_mean_squared_error: 0.0196\n",
      "Epoch 60/120\n",
      "1/1 [==============================] - 0s 3ms/step - loss: 3.7084e-04 - root_mean_squared_error: 0.0193\n",
      "Epoch 61/120\n",
      "1/1 [==============================] - 0s 11ms/step - loss: 3.5824e-04 - root_mean_squared_error: 0.0189\n",
      "Epoch 62/120\n",
      "1/1 [==============================] - 0s 12ms/step - loss: 3.4677e-04 - root_mean_squared_error: 0.0186\n",
      "Epoch 63/120\n",
      "1/1 [==============================] - 0s 4ms/step - loss: 3.3631e-04 - root_mean_squared_error: 0.0183\n",
      "Epoch 64/120\n",
      "1/1 [==============================] - 0s 9ms/step - loss: 3.2674e-04 - root_mean_squared_error: 0.0181\n",
      "Epoch 65/120\n",
      "1/1 [==============================] - 0s 12ms/step - loss: 3.1795e-04 - root_mean_squared_error: 0.0178\n",
      "Epoch 66/120\n",
      "1/1 [==============================] - 0s 9ms/step - loss: 3.0987e-04 - root_mean_squared_error: 0.0176\n",
      "Epoch 67/120\n",
      "1/1 [==============================] - 0s 4ms/step - loss: 3.0241e-04 - root_mean_squared_error: 0.0174\n",
      "Epoch 68/120\n",
      "1/1 [==============================] - 0s 7ms/step - loss: 2.9552e-04 - root_mean_squared_error: 0.0172\n",
      "Epoch 69/120\n",
      "1/1 [==============================] - 0s 6ms/step - loss: 2.8912e-04 - root_mean_squared_error: 0.0170\n",
      "Epoch 70/120\n",
      "1/1 [==============================] - 0s 4ms/step - loss: 2.8317e-04 - root_mean_squared_error: 0.0168\n",
      "Epoch 71/120\n",
      "1/1 [==============================] - 0s 8ms/step - loss: 2.7763e-04 - root_mean_squared_error: 0.0167\n",
      "Epoch 72/120\n",
      "1/1 [==============================] - 0s 6ms/step - loss: 2.7244e-04 - root_mean_squared_error: 0.0165\n",
      "Epoch 73/120\n",
      "1/1 [==============================] - 0s 5ms/step - loss: 2.6758e-04 - root_mean_squared_error: 0.0164\n",
      "Epoch 74/120\n",
      "1/1 [==============================] - 0s 6ms/step - loss: 2.6302e-04 - root_mean_squared_error: 0.0162\n",
      "Epoch 75/120\n",
      "1/1 [==============================] - 0s 9ms/step - loss: 2.5872e-04 - root_mean_squared_error: 0.0161\n",
      "Epoch 76/120\n",
      "1/1 [==============================] - 0s 6ms/step - loss: 2.5466e-04 - root_mean_squared_error: 0.0160\n",
      "Epoch 77/120\n",
      "1/1 [==============================] - 0s 5ms/step - loss: 2.5082e-04 - root_mean_squared_error: 0.0158\n",
      "Epoch 78/120\n",
      "1/1 [==============================] - 0s 7ms/step - loss: 2.4718e-04 - root_mean_squared_error: 0.0157\n",
      "Epoch 79/120\n",
      "1/1 [==============================] - 0s 14ms/step - loss: 2.4372e-04 - root_mean_squared_error: 0.0156\n",
      "Epoch 80/120\n",
      "1/1 [==============================] - 0s 4ms/step - loss: 2.4042e-04 - root_mean_squared_error: 0.0155\n",
      "Epoch 81/120\n",
      "1/1 [==============================] - 0s 4ms/step - loss: 2.3727e-04 - root_mean_squared_error: 0.0154\n",
      "Epoch 82/120\n",
      "1/1 [==============================] - 0s 4ms/step - loss: 2.3426e-04 - root_mean_squared_error: 0.0153\n",
      "Epoch 83/120\n",
      "1/1 [==============================] - 0s 6ms/step - loss: 2.3138e-04 - root_mean_squared_error: 0.0152\n",
      "Epoch 84/120\n",
      "1/1 [==============================] - 0s 8ms/step - loss: 2.2860e-04 - root_mean_squared_error: 0.0151\n",
      "Epoch 85/120\n",
      "1/1 [==============================] - 0s 6ms/step - loss: 2.2594e-04 - root_mean_squared_error: 0.0150\n",
      "Epoch 86/120\n",
      "1/1 [==============================] - 0s 6ms/step - loss: 2.2337e-04 - root_mean_squared_error: 0.0149\n",
      "Epoch 87/120\n",
      "1/1 [==============================] - 0s 5ms/step - loss: 2.2089e-04 - root_mean_squared_error: 0.0149\n",
      "Epoch 88/120\n",
      "1/1 [==============================] - 0s 6ms/step - loss: 2.1849e-04 - root_mean_squared_error: 0.0148\n",
      "Epoch 89/120\n",
      "1/1 [==============================] - 0s 6ms/step - loss: 2.1616e-04 - root_mean_squared_error: 0.0147\n",
      "Epoch 90/120\n",
      "1/1 [==============================] - 0s 10ms/step - loss: 2.1391e-04 - root_mean_squared_error: 0.0146\n",
      "Epoch 91/120\n",
      "1/1 [==============================] - 0s 5ms/step - loss: 2.1172e-04 - root_mean_squared_error: 0.0146\n",
      "Epoch 92/120\n",
      "1/1 [==============================] - 0s 5ms/step - loss: 2.0960e-04 - root_mean_squared_error: 0.0145\n",
      "Epoch 93/120\n",
      "1/1 [==============================] - 0s 7ms/step - loss: 2.0753e-04 - root_mean_squared_error: 0.0144\n",
      "Epoch 94/120\n",
      "1/1 [==============================] - 0s 7ms/step - loss: 2.0551e-04 - root_mean_squared_error: 0.0143\n",
      "Epoch 95/120\n",
      "1/1 [==============================] - 0s 8ms/step - loss: 2.0354e-04 - root_mean_squared_error: 0.0143\n",
      "Epoch 96/120\n",
      "1/1 [==============================] - 0s 17ms/step - loss: 2.0162e-04 - root_mean_squared_error: 0.0142\n",
      "Epoch 97/120\n",
      "1/1 [==============================] - 0s 14ms/step - loss: 1.9974e-04 - root_mean_squared_error: 0.0141\n",
      "Epoch 98/120\n",
      "1/1 [==============================] - 0s 7ms/step - loss: 1.9790e-04 - root_mean_squared_error: 0.0141\n",
      "Epoch 99/120\n",
      "1/1 [==============================] - 0s 9ms/step - loss: 1.9610e-04 - root_mean_squared_error: 0.0140\n",
      "Epoch 100/120\n",
      "1/1 [==============================] - 0s 7ms/step - loss: 1.9434e-04 - root_mean_squared_error: 0.0139\n",
      "Epoch 101/120\n",
      "1/1 [==============================] - 0s 7ms/step - loss: 1.9261e-04 - root_mean_squared_error: 0.0139\n",
      "Epoch 102/120\n",
      "1/1 [==============================] - 0s 7ms/step - loss: 1.9092e-04 - root_mean_squared_error: 0.0138\n",
      "Epoch 103/120\n",
      "1/1 [==============================] - 0s 7ms/step - loss: 1.8925e-04 - root_mean_squared_error: 0.0138\n",
      "Epoch 104/120\n",
      "1/1 [==============================] - 0s 8ms/step - loss: 1.8761e-04 - root_mean_squared_error: 0.0137\n",
      "Epoch 105/120\n",
      "1/1 [==============================] - 0s 7ms/step - loss: 1.8601e-04 - root_mean_squared_error: 0.0136\n",
      "Epoch 106/120\n",
      "1/1 [==============================] - 0s 6ms/step - loss: 1.8442e-04 - root_mean_squared_error: 0.0136\n",
      "Epoch 107/120\n",
      "1/1 [==============================] - 0s 4ms/step - loss: 1.8287e-04 - root_mean_squared_error: 0.0135\n",
      "Epoch 108/120\n",
      "1/1 [==============================] - 0s 7ms/step - loss: 1.8134e-04 - root_mean_squared_error: 0.0135\n",
      "Epoch 109/120\n",
      "1/1 [==============================] - 0s 12ms/step - loss: 1.7983e-04 - root_mean_squared_error: 0.0134\n",
      "Epoch 110/120\n",
      "1/1 [==============================] - 0s 4ms/step - loss: 1.7835e-04 - root_mean_squared_error: 0.0134\n",
      "Epoch 111/120\n",
      "1/1 [==============================] - 0s 4ms/step - loss: 1.7688e-04 - root_mean_squared_error: 0.0133\n",
      "Epoch 112/120\n",
      "1/1 [==============================] - 0s 4ms/step - loss: 1.7544e-04 - root_mean_squared_error: 0.0132\n",
      "Epoch 113/120\n",
      "1/1 [==============================] - 0s 4ms/step - loss: 1.7402e-04 - root_mean_squared_error: 0.0132\n",
      "Epoch 114/120\n",
      "1/1 [==============================] - 0s 4ms/step - loss: 1.7262e-04 - root_mean_squared_error: 0.0131\n",
      "Epoch 115/120\n",
      "1/1 [==============================] - 0s 4ms/step - loss: 1.7124e-04 - root_mean_squared_error: 0.0131\n",
      "Epoch 116/120\n",
      "1/1 [==============================] - 0s 20ms/step - loss: 1.6987e-04 - root_mean_squared_error: 0.0130\n",
      "Epoch 117/120\n",
      "1/1 [==============================] - 0s 5ms/step - loss: 1.6853e-04 - root_mean_squared_error: 0.0130\n",
      "Epoch 118/120\n",
      "1/1 [==============================] - 0s 15ms/step - loss: 1.6720e-04 - root_mean_squared_error: 0.0129\n",
      "Epoch 119/120\n",
      "1/1 [==============================] - 0s 8ms/step - loss: 1.6589e-04 - root_mean_squared_error: 0.0129\n",
      "Epoch 120/120\n",
      "1/1 [==============================] - 0s 10ms/step - loss: 1.6459e-04 - root_mean_squared_error: 0.0128\n"
     ]
    }
   ],
   "source": [
    "history = model.fit(data[['input1', 'input2']].to_numpy(), data['output'].to_numpy(), batch_size=5, epochs=120)"
   ]
  },
  {
   "cell_type": "code",
   "execution_count": 16,
   "id": "17899d49-e571-4566-8cb4-3dd1041ef0cc",
   "metadata": {},
   "outputs": [
    {
     "data": {
      "text/plain": [
       "<AxesSubplot: >"
      ]
     },
     "execution_count": 16,
     "metadata": {},
     "output_type": "execute_result"
    },
    {
     "data": {
      "image/png": "[encoded data removed]",
      "text/plain": [
       "<Figure size 800x600 with 1 Axes>"
      ]
     },
     "metadata": {},
     "output_type": "display_data"
    }
   ],
   "source": [
    "pd.DataFrame(history.history).plot()"
   ]
  },
  {
   "cell_type": "code",
   "execution_count": null,
   "id": "3a0cc948-18b9-40d5-a68c-def6ceef9aaf",
   "metadata": {},
   "outputs": [],
   "source": [
    "test_data = data[['input1', 'input2']]"
   ]
  },
  {
   "cell_type": "code",
   "execution_count": null,
   "id": "767000a9-59cd-4034-8e0f-837b05a361c6",
   "metadata": {},
   "outputs": [],
   "source": [
    "test_data['pred'] = model.predict(test_data)"
   ]
  },
  {
   "cell_type": "code",
   "execution_count": null,
   "id": "1bd2cfda-8b85-40f9-9f83-c8866ad5e403",
   "metadata": {},
   "outputs": [],
   "source": [
    "display(test_data)"
   ]
  },
  {
   "cell_type": "code",
   "execution_count": null,
   "id": "952afb31-a972-420d-8045-953500a92cb6",
   "metadata": {},
   "outputs": [],
   "source": []
  }
 ],
 "metadata": {
  "kernelspec": {
   "display_name": "Python 3 (ipykernel)",
   "language": "python",
   "name": "python3"
  },
  "language_info": {
   "codemirror_mode": {
    "name": "ipython",
    "version": 3
   },
   "file_extension": ".py",
   "mimetype": "text/x-python",
   "name": "python",
   "nbconvert_exporter": "python",
   "pygments_lexer": "ipython3",
   "version": "3.9.15"
  }
 },
 "nbformat": 4,
 "nbformat_minor": 5
}
