{
 "cells": [
  {
   "cell_type": "markdown",
   "id": "4b38cfe6-687b-4cda-8913-32a8675addd3",
   "metadata": {},
   "source": [
    "# Fully Connected Feed Forward NN in Tensorflow\n",
    "\n",
    "TASK 1 - Solution"
   ]
  },
  {
   "cell_type": "code",
   "execution_count": null,
   "id": "c3146a45-6417-45bf-9898-c90fb05ee581",
   "metadata": {},
   "outputs": [],
   "source": [
    "#imports\n",
    "%matplotlib widget\n",
    "import matplotlib.pyplot as plt\n",
    "plt.rcParams['figure.figsize'] = [8, 6]\n",
    "\n",
    "import numpy as np\n",
    "import pandas as pd\n",
    "import tensorflow as tf"
   ]
  },
  {
   "cell_type": "code",
   "execution_count": null,
   "id": "f96c8078-32bf-4cb1-acfe-6a749a3dfac4",
   "metadata": {},
   "outputs": [],
   "source": [
    "# just to make sure everyone get's the same results\n",
    "random_state = 99\n",
    "np.random.seed(random_state)\n",
    "tf.random.set_seed(random_state)"
   ]
  },
  {
   "cell_type": "code",
   "execution_count": null,
   "id": "17f41801-5109-43b1-aae1-9636a9b1c5d8",
   "metadata": {},
   "outputs": [],
   "source": [
    "# load training data\n",
    "data = pd.read_csv('./regression_example_2.csv')"
   ]
  },
  {
   "cell_type": "code",
   "execution_count": null,
   "id": "a1af1f1e-8773-41a1-b7ef-bf574582096a",
   "metadata": {},
   "outputs": [],
   "source": [
    "data.plot(kind='scatter', x='input', y='output', title='Training data')"
   ]
  },
  {
   "cell_type": "code",
   "execution_count": null,
   "id": "fff31242-dc67-438e-a2bd-1fefd9a01f82",
   "metadata": {},
   "outputs": [],
   "source": [
    "training_data = data.sample(frac=0.8)\n",
    "validation_data = data.drop(training_data.index)\n",
    "\n",
    "# check len of data frames \n",
    "print(len(training_data))\n",
    "print(len(validation_data))"
   ]
  },
  {
   "cell_type": "code",
   "execution_count": null,
   "id": "c43f222d-3118-4567-8645-389f063b9012",
   "metadata": {},
   "outputs": [],
   "source": [
    "# define model topology\n",
    "inputs = tf.keras.layers.Input(shape=(1,))\n",
    "x = tf.keras.layers.Dense(7, name='HiddenLayer', activation=tf.keras.activations.tanh)(inputs)\n",
    "x = tf.keras.layers.Dense(7, name='HiddenLayer2', activation=tf.keras.activations.tanh)(x)\n",
    "x = tf.keras.layers.Dense(7, name='HiddenLayer3', activation=tf.keras.activations.tanh)(x)\n",
    "output = tf.keras.layers.Dense(1, name='OutputLayer', activation = None)(x)"
   ]
  },
  {
   "cell_type": "code",
   "execution_count": null,
   "id": "b7d447af-f72f-4fdc-ad1e-1f4a87159b27",
   "metadata": {},
   "outputs": [],
   "source": [
    "# create model\n",
    "model = tf.keras.Model(inputs = inputs, outputs = output, name='TF_Example')"
   ]
  },
  {
   "cell_type": "code",
   "execution_count": null,
   "id": "bacb9bf4-2818-4fab-bcda-8d7c1aafe66d",
   "metadata": {},
   "outputs": [],
   "source": [
    "# inspect model\n",
    "model.summary()\n",
    "tf.keras.utils.plot_model(model, show_shapes=True)"
   ]
  },
  {
   "cell_type": "code",
   "execution_count": null,
   "id": "09df6bd2-0a6c-419a-9194-108f545e8095",
   "metadata": {},
   "outputs": [],
   "source": [
    "learning_rate = 0.05\n",
    "\n",
    "model.compile(loss = tf.keras.losses.MeanSquaredError(),\n",
    "             optimizer = tf.keras.optimizers.Adam(learning_rate),\n",
    "             metrics = [tf.keras.metrics.RootMeanSquaredError()])"
   ]
  },
  {
   "cell_type": "code",
   "execution_count": null,
   "id": "477b6377-b254-4854-9bbb-ede1713aae08",
   "metadata": {
    "tags": []
   },
   "outputs": [],
   "source": [
    "history = model.fit(training_data['input'].to_numpy(), training_data['output'].to_numpy(), batch_size=5, epochs=120, validation_data=(validation_data['input'].to_numpy(), validation_data['output'].to_numpy()))"
   ]
  },
  {
   "cell_type": "code",
   "execution_count": null,
   "id": "17899d49-e571-4566-8cb4-3dd1041ef0cc",
   "metadata": {},
   "outputs": [],
   "source": [
    "pd.DataFrame(history.history).plot()"
   ]
  },
  {
   "cell_type": "code",
   "execution_count": null,
   "id": "a04c8bb2-de80-4f6e-9049-b3f0f6d469c5",
   "metadata": {},
   "outputs": [],
   "source": [
    "dummy_input_data = np.linspace(0, 1, 101)\n",
    "y_pred = model.predict(dummy_input_data)"
   ]
  },
  {
   "cell_type": "code",
   "execution_count": null,
   "id": "3a0cc948-18b9-40d5-a68c-def6ceef9aaf",
   "metadata": {},
   "outputs": [],
   "source": [
    "plt.close('all')\n",
    "plt.scatter(data['input'], data['output'], label='training data')\n",
    "plt.plot(dummy_input_data, y_pred, color='red', linewidth=3, label='prediction')\n",
    "plt.legend()\n",
    "plt.show()"
   ]
  },
  {
   "cell_type": "code",
   "execution_count": null,
   "id": "f76c6017-2fbf-4772-adc6-0a59d3063b10",
   "metadata": {},
   "outputs": [],
   "source": []
  }
 ],
 "metadata": {
  "kernelspec": {
   "display_name": "Python 3 (ipykernel)",
   "language": "python",
   "name": "python3"
  },
  "language_info": {
   "codemirror_mode": {
    "name": "ipython",
    "version": 3
   },
   "file_extension": ".py",
   "mimetype": "text/x-python",
   "name": "python",
   "nbconvert_exporter": "python",
   "pygments_lexer": "ipython3",
   "version": "3.9.15"
  }
 },
 "nbformat": 4,
 "nbformat_minor": 5
}
