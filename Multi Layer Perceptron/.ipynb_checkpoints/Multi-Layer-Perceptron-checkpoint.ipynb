{
 "cells": [
  {
   "cell_type": "code",
   "execution_count": 6,
   "id": "7cf050fb-ea81-4ec5-a552-ecc14b3e92e3",
   "metadata": {},
   "outputs": [],
   "source": [
    "import pandas as pd #module for data science calculations and visualizations\n",
    "import numpy as np #module for matrix calculations"
   ]
  },
  {
   "cell_type": "code",
   "execution_count": 7,
   "id": "9bc49479-f6de-43ec-aa71-51670116abca",
   "metadata": {},
   "outputs": [],
   "source": [
    "def step(x):\n",
    "    \n",
    "    output = 0\n",
    "    if x > 0:\n",
    "        output = 1\n",
    "    \n",
    "    return output\n",
    "\n",
    "\n",
    "def perceptron(inputs, weights, bias):\n",
    "    \n",
    "    intermediate_result = np.matmul(inputs.to_numpy(), weights.to_numpy()) + bias\n",
    "    return_value = step(intermediate_result)\n",
    "    \n",
    "    return return_value\n"
   ]
  },
  {
   "cell_type": "code",
   "execution_count": 8,
   "id": "be314c9a-1be2-420d-9f3e-2a815506920a",
   "metadata": {},
   "outputs": [],
   "source": [
    "#weight and bias for linear gates\n",
    "weights_for_and_gate = pd.Series([1, 1], index = ['w1', 'w2'])\n",
    "bias_for_and_gate = -1\n",
    "\n",
    "weights_for_or_gate = pd.Series([2, 2], index = ['w1', 'w2'])\n",
    "bias_for_or_gate = -1\n",
    "\n",
    "weights_for_nor_gate = pd.Series([-1, -1], index = ['w1', 'w2'])\n",
    "bias_for_nor_gate = 1\n",
    "\n",
    "weights_for_nand_gate = pd.Series([-1, -1], index = ['w1', 'w2'])\n",
    "bias_for_nand_gate = 2"
   ]
  },
  {
   "cell_type": "code",
   "execution_count": 10,
   "id": "f1460899-a4b5-4643-82e8-904715b43695",
   "metadata": {},
   "outputs": [
    {
     "name": "stdout",
     "output_type": "stream",
     "text": [
      "Hidden outputs: [1, 1]\n",
      "Result: 1\n"
     ]
    }
   ],
   "source": [
    "#XOR\n",
    "\n",
    "inputs = pd.Series([1,0], index = ['x1', 'x2'])\n",
    "\n",
    "output_h1 = perceptron(inputs, weights_for_or_gate, bias_for_or_gate)\n",
    "output_h2 = perceptron(inputs, weights_for_nand_gate, bias_for_nand_gate)\n",
    "\n",
    "output = perceptron(pd.Series([output_h1,output_h2]), weights_for_and_gate, bias_for_and_gate)\n",
    "print(f'''Hidden outputs: {[output_h1, output_h2]}''')\n",
    "print(f'''Result: {output}''')"
   ]
  },
  {
   "cell_type": "code",
   "execution_count": 13,
   "id": "91bc0e8e-66dd-488c-8a88-aeabce399875",
   "metadata": {},
   "outputs": [
    {
     "name": "stdout",
     "output_type": "stream",
     "text": [
      "Hidden outputs: [0, 0]\n",
      "Result: 0\n"
     ]
    }
   ],
   "source": [
    "#XAND\n",
    "\n",
    "inputs = pd.Series([1,0], index = ['x1', 'x2'])\n",
    "\n",
    "output_h1 = perceptron(inputs, weights_for_and_gate, bias_for_and_gate)\n",
    "output_h2 = perceptron(inputs, weights_for_nor_gate, bias_for_nor_gate)\n",
    "\n",
    "output = perceptron(pd.Series([output_h1,output_h2]), weights_for_or_gate, bias_for_or_gate)\n",
    "print(f'''Hidden outputs: {[output_h1, output_h2]}''')\n",
    "print(f'''Result: {output}''')"
   ]
  },
  {
   "cell_type": "code",
   "execution_count": null,
   "id": "881ea0d2-e9b9-4315-a6c0-b1c0ee4e2035",
   "metadata": {},
   "outputs": [],
   "source": []
  }
 ],
 "metadata": {
  "kernelspec": {
   "display_name": "Python 3 (ipykernel)",
   "language": "python",
   "name": "python3"
  },
  "language_info": {
   "codemirror_mode": {
    "name": "ipython",
    "version": 3
   },
   "file_extension": ".py",
   "mimetype": "text/x-python",
   "name": "python",
   "nbconvert_exporter": "python",
   "pygments_lexer": "ipython3",
   "version": "3.9.7"
  }
 },
 "nbformat": 4,
 "nbformat_minor": 5
}
